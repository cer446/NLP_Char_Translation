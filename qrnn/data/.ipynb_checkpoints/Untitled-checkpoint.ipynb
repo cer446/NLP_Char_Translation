{
 "cells": [
  {
   "cell_type": "code",
   "execution_count": 10,
   "metadata": {
    "collapsed": true
   },
   "outputs": [],
   "source": [
    "import cPickle as pkl\n",
    "import json"
   ]
  },
  {
   "cell_type": "code",
   "execution_count": 1,
   "metadata": {
    "collapsed": true
   },
   "outputs": [],
   "source": [
    "def unicode_to_utf8(d):\n",
    "    return dict((key.encode(\"UTF-8\"), value) for (key,value) in d.items())"
   ]
  },
  {
   "cell_type": "code",
   "execution_count": 2,
   "metadata": {
    "collapsed": true
   },
   "outputs": [],
   "source": [
    "def load_dict(filename):\n",
    "    try:\n",
    "        with open(filename, 'rb') as f:\n",
    "            return unicode_to_utf8(json.load(f))\n",
    "    except:\n",
    "        with open(filename, 'rb') as f:\n",
    "            return pkl.load(f)"
   ]
  },
  {
   "cell_type": "code",
   "execution_count": 56,
   "metadata": {},
   "outputs": [],
   "source": [
    "dict2 = load_dict(\"/Users/carolineroper/Documents/School/Natural Language Processing/quasi-rnn-original/target_v.json\")"
   ]
  },
  {
   "cell_type": "code",
   "execution_count": 57,
   "metadata": {
    "collapsed": true
   },
   "outputs": [],
   "source": [
    "dict1 = load_dict(\"/Users/carolineroper/Documents/School/Natural Language Processing/quasi-rnn-original/source_v.json\")"
   ]
  },
  {
   "cell_type": "code",
   "execution_count": 60,
   "metadata": {},
   "outputs": [
    {
     "data": {
      "text/plain": [
       "126"
      ]
     },
     "execution_count": 60,
     "metadata": {},
     "output_type": "execute_result"
    }
   ],
   "source": [
    "len(set(dict1.keys()))"
   ]
  },
  {
   "cell_type": "code",
   "execution_count": 58,
   "metadata": {},
   "outputs": [
    {
     "data": {
      "text/plain": [
       "108"
      ]
     },
     "execution_count": 58,
     "metadata": {},
     "output_type": "execute_result"
    }
   ],
   "source": [
    "len(set(dict1.keys()).intersection(set(dict2.keys())))"
   ]
  },
  {
   "cell_type": "code",
   "execution_count": 18,
   "metadata": {
    "collapsed": true
   },
   "outputs": [],
   "source": [
    "filename = \\\n",
    "\"/Users/carolineroper/Documents/School/Natural Language Processing/quasi-rnn-original/data/train_source_seqs.txt\""
   ]
  },
  {
   "cell_type": "code",
   "execution_count": 23,
   "metadata": {
    "collapsed": true
   },
   "outputs": [],
   "source": [
    "import io"
   ]
  },
  {
   "cell_type": "code",
   "execution_count": 29,
   "metadata": {
    "collapsed": true
   },
   "outputs": [],
   "source": [
    "with io.open(filename, 'r', encoding = 'utf-8') as f:\n",
    "    for line in f:\n",
    "        chars_in = []\n",
    "        for ch in line:\n",
    "            chars_in.append(ch)"
   ]
  },
  {
   "cell_type": "code",
   "execution_count": null,
   "metadata": {
    "collapsed": true
   },
   "outputs": [],
   "source": [
    "json.dump()"
   ]
  },
  {
   "cell_type": "code",
   "execution_count": 37,
   "metadata": {
    "collapsed": true
   },
   "outputs": [],
   "source": [
    "example = [\"hello my name is lafawnda\"]"
   ]
  },
  {
   "cell_type": "code",
   "execution_count": 38,
   "metadata": {
    "collapsed": true
   },
   "outputs": [],
   "source": [
    "chars = []"
   ]
  },
  {
   "cell_type": "code",
   "execution_count": 39,
   "metadata": {},
   "outputs": [
    {
     "data": {
      "text/plain": [
       "[None]"
      ]
     },
     "execution_count": 39,
     "metadata": {},
     "output_type": "execute_result"
    }
   ],
   "source": [
    "map(chars.extend, example)"
   ]
  },
  {
   "cell_type": "code",
   "execution_count": 40,
   "metadata": {},
   "outputs": [
    {
     "data": {
      "text/plain": [
       "['h',\n",
       " 'e',\n",
       " 'l',\n",
       " 'l',\n",
       " 'o',\n",
       " ' ',\n",
       " 'm',\n",
       " 'y',\n",
       " ' ',\n",
       " 'n',\n",
       " 'a',\n",
       " 'm',\n",
       " 'e',\n",
       " ' ',\n",
       " 'i',\n",
       " 's',\n",
       " ' ',\n",
       " 'l',\n",
       " 'a',\n",
       " 'f',\n",
       " 'a',\n",
       " 'w',\n",
       " 'n',\n",
       " 'd',\n",
       " 'a']"
      ]
     },
     "execution_count": 40,
     "metadata": {},
     "output_type": "execute_result"
    }
   ],
   "source": [
    "chars"
   ]
  },
  {
   "cell_type": "code",
   "execution_count": 17,
   "metadata": {},
   "outputs": [
    {
     "data": {
      "text/plain": [
       "['E',\n",
       " 's',\n",
       " ' ',\n",
       " 'k',\n",
       " '\\xc3',\n",
       " '\\xb6',\n",
       " 'n',\n",
       " 'n',\n",
       " 't',\n",
       " 'e',\n",
       " ' ',\n",
       " 'e',\n",
       " 'i',\n",
       " 'n',\n",
       " ' ',\n",
       " 'F',\n",
       " 'o',\n",
       " 'r',\n",
       " 'u',\n",
       " 'm',\n",
       " ' ',\n",
       " 'f',\n",
       " '\\xc3',\n",
       " '\\xbc',\n",
       " 'r',\n",
       " ' ',\n",
       " 'I',\n",
       " 'd',\n",
       " 'e',\n",
       " 'e',\n",
       " 'n',\n",
       " ' ',\n",
       " 'd',\n",
       " 'e',\n",
       " 'r',\n",
       " ' ',\n",
       " 'M',\n",
       " 'e',\n",
       " 'n',\n",
       " 's',\n",
       " 'c',\n",
       " 'h',\n",
       " 'e',\n",
       " 'n',\n",
       " ' ',\n",
       " 's',\n",
       " 'e',\n",
       " 'i',\n",
       " 'n',\n",
       " ',',\n",
       " ' ',\n",
       " 'w',\n",
       " 'a',\n",
       " 's',\n",
       " ' ',\n",
       " 's',\n",
       " 'i',\n",
       " 'e',\n",
       " ' ',\n",
       " 'a',\n",
       " 'u',\n",
       " 'f',\n",
       " ' ',\n",
       " 'e',\n",
       " 'i',\n",
       " 'n',\n",
       " 'e',\n",
       " 'm',\n",
       " ' ',\n",
       " 's',\n",
       " 'o',\n",
       " 'l',\n",
       " 'c',\n",
       " 'h',\n",
       " ' ',\n",
       " 'g',\n",
       " 'i',\n",
       " 'g',\n",
       " 'a',\n",
       " 'n',\n",
       " 't',\n",
       " 'i',\n",
       " 's',\n",
       " 'c',\n",
       " 'h',\n",
       " 'e',\n",
       " 'm',\n",
       " ' ',\n",
       " 'S',\n",
       " 'c',\n",
       " 'h',\n",
       " 'i',\n",
       " 'r',\n",
       " 'm',\n",
       " ' ',\n",
       " 's',\n",
       " 'e',\n",
       " 'h',\n",
       " 'e',\n",
       " 'n',\n",
       " ' ',\n",
       " 'm',\n",
       " '\\xc3',\n",
       " '\\xb6',\n",
       " 'c',\n",
       " 'h',\n",
       " 't',\n",
       " 'e',\n",
       " 'n',\n",
       " '.',\n",
       " '\\n']"
      ]
     },
     "execution_count": 17,
     "metadata": {},
     "output_type": "execute_result"
    }
   ],
   "source": [
    "with open(\"filename\") as fileobj:\n",
    "    for line in fileobj:  \n",
    "        for ch in line: \n",
    "            print ch"
   ]
  }
 ],
 "metadata": {
  "kernelspec": {
   "display_name": "Python 2",
   "language": "python",
   "name": "python2"
  },
  "language_info": {
   "codemirror_mode": {
    "name": "ipython",
    "version": 2
   },
   "file_extension": ".py",
   "mimetype": "text/x-python",
   "name": "python",
   "nbconvert_exporter": "python",
   "pygments_lexer": "ipython2",
   "version": "2.7.13"
  }
 },
 "nbformat": 4,
 "nbformat_minor": 2
}
